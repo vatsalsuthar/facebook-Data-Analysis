{
 "cells": [
  {
   "cell_type": "code",
   "execution_count": 1,
   "metadata": {},
   "outputs": [],
   "source": [
    "from pyspark.sql import SparkSession\n",
    "from pyspark.sql.types import *\n",
    "from pyspark.sql import *\n",
    "import pandas as pd\n",
    "import matplotlib.pyplot as plt"
   ]
  },
  {
   "cell_type": "code",
   "execution_count": 2,
   "metadata": {},
   "outputs": [
    {
     "name": "stdout",
     "output_type": "stream",
     "text": [
      "root\n",
      " |-- id: integer (nullable = true)\n",
      " |-- page_id: integer (nullable = true)\n",
      " |-- name: string (nullable = true)\n",
      " |-- message: string (nullable = true)\n",
      " |-- description: string (nullable = true)\n",
      " |-- caption: string (nullable = true)\n",
      " |-- post_type: string (nullable = true)\n",
      " |-- status_type: string (nullable = true)\n",
      " |-- likes_count: integer (nullable = true)\n",
      " |-- comments_count: integer (nullable = true)\n",
      " |-- shares_count: integer (nullable = true)\n",
      " |-- love_count: integer (nullable = true)\n",
      " |-- wow_count: integer (nullable = true)\n",
      " |-- haha_count: integer (nullable = true)\n",
      " |-- sad_count: integer (nullable = true)\n",
      " |-- thankful_count: integer (nullable = true)\n",
      " |-- angry_count: integer (nullable = true)\n",
      " |-- link: string (nullable = true)\n",
      " |-- picture: string (nullable = true)\n",
      " |-- posted_at: integer (nullable = true)\n",
      "\n"
     ]
    }
   ],
   "source": [
    "schema = StructType([\n",
    "    StructField('id', IntegerType(), True),\n",
    "    StructField('page_id', IntegerType(), True),\n",
    "    StructField('name', StringType(), True),\n",
    "    StructField('message', StringType(), True),\n",
    "    StructField('description', StringType(), True),\n",
    "    StructField('caption', StringType(), True),\n",
    "    StructField('post_type', StringType(), True),\n",
    "    StructField('status_type', StringType(), True),\n",
    "    StructField('likes_count', IntegerType(), True),\n",
    "    StructField('comments_count', IntegerType(), True),\n",
    "    StructField('shares_count', IntegerType(), True),\n",
    "    StructField('love_count', IntegerType(), True),\n",
    "    StructField('wow_count', IntegerType(), True),\n",
    "    StructField('haha_count', IntegerType(), True),\n",
    "    StructField('sad_count', IntegerType(), True),\n",
    "    StructField('thankful_count', IntegerType(), True),\n",
    "    StructField('angry_count', IntegerType(), True),\n",
    "    StructField('link', StringType(), True),\n",
    "    StructField('picture', StringType(), True),\n",
    "    StructField('posted_at', IntegerType(), True),\n",
    "])\n",
    "\n",
    "spark = SparkSession.builder.appName(\"F_D_A\").getOrCreate()\n",
    "sc = spark.sparkContext\n",
    "\n",
    "df = spark.read.csv(\"abc-news.csv\", header=True, schema=schema, inferSchema=True)\n",
    "df.printSchema()"
   ]
  },
  {
   "cell_type": "code",
   "execution_count": null,
   "metadata": {},
   "outputs": [],
   "source": []
  }
 ],
 "metadata": {
  "kernelspec": {
   "display_name": "Python 3",
   "language": "python",
   "name": "python3"
  },
  "language_info": {
   "codemirror_mode": {
    "name": "ipython",
    "version": 3
   },
   "file_extension": ".py",
   "mimetype": "text/x-python",
   "name": "python",
   "nbconvert_exporter": "python",
   "pygments_lexer": "ipython3",
   "version": "3.8.5"
  }
 },
 "nbformat": 4,
 "nbformat_minor": 4
}
